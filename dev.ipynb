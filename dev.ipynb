{
 "metadata": {
  "language_info": {
   "codemirror_mode": {
    "name": "ipython",
    "version": 3
   },
   "file_extension": ".py",
   "mimetype": "text/x-python",
   "name": "python",
   "nbconvert_exporter": "python",
   "pygments_lexer": "ipython3",
   "version": "3.7.9"
  },
  "orig_nbformat": 2,
  "kernelspec": {
   "name": "python3",
   "display_name": "Python 3.7.9 64-bit ('mslice': conda)",
   "metadata": {
    "interpreter": {
     "hash": "34e7025d3a7649b2b6d3e1a5aa4f555f2b197af1fbc94243692530dcd6113111"
    }
   }
  }
 },
 "nbformat": 4,
 "nbformat_minor": 2,
 "cells": [
  {
   "cell_type": "code",
   "execution_count": 1,
   "metadata": {},
   "outputs": [],
   "source": [
    "import os\n",
    "import numpy as np\n",
    "import mslicepy as msp"
   ]
  },
  {
   "cell_type": "code",
   "execution_count": 3,
   "metadata": {},
   "outputs": [
    {
     "output_type": "execute_result",
     "data": {
      "text/plain": [
       "186.207"
      ]
     },
     "metadata": {},
     "execution_count": 3
    }
   ],
   "source": [
    "msp.Material('W').mass"
   ]
  },
  {
   "cell_type": "code",
   "execution_count": 40,
   "metadata": {},
   "outputs": [
    {
     "output_type": "stream",
     "name": "stdout",
     "text": [
      "415.17916152304747\n"
     ]
    }
   ],
   "source": [
    "PI2 = 6.283185307179586476925286766559\n",
    "AVOGADRO = 6.02214199e23\n",
    "CH = 6.626069573e-27 * 2.99792458e10 / 1.602176565e-12 * 1e8\n",
    "R0 = 2.817940285e-5  # A\n",
    "print(1e-24 * AVOGADRO * R0 / PI2 * CH**2)"
   ]
  },
  {
   "cell_type": "code",
   "execution_count": 45,
   "metadata": {},
   "outputs": [
    {
     "output_type": "stream",
     "name": "stdout",
     "text": [
      "153720814.61123177\n2.7008646837561236e-06\n"
     ]
    }
   ],
   "source": [
    "from scipy import constants\n",
    "\n",
    "print((constants.c * constants.h / constants.e * 1e10)**2)\n",
    "print(constants.Avogadro * constants.value('classical electron radius') / 2 / constants.pi * 1e-14)"
   ]
  },
  {
   "cell_type": "code",
   "execution_count": 43,
   "metadata": {},
   "outputs": [
    {
     "output_type": "execute_result",
     "data": {
      "text/plain": [
       "2.8179403262e-05"
      ]
     },
     "metadata": {},
     "execution_count": 43
    }
   ],
   "source": [
    "constants.value('classical electron radius') * 1e10"
   ]
  },
  {
   "cell_type": "code",
   "execution_count": null,
   "metadata": {},
   "outputs": [],
   "source": []
  }
 ]
}